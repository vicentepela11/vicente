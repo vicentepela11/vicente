{
  "nbformat": 4,
  "nbformat_minor": 0,
  "metadata": {
    "colab": {
      "name": "igor.ipynb",
      "provenance": [],
      "collapsed_sections": [],
      "include_colab_link": true
    },
    "kernelspec": {
      "name": "python3",
      "display_name": "Python 3"
    },
    "language_info": {
      "name": "python"
    }
  },
  "cells": [
    {
      "cell_type": "markdown",
      "metadata": {
        "id": "view-in-github",
        "colab_type": "text"
      },
      "source": [
        "<a href=\"https://colab.research.google.com/github/vicentepela11/vicente/blob/master/igor.ipynb\" target=\"_parent\"><img src=\"https://colab.research.google.com/assets/colab-badge.svg\" alt=\"Open In Colab\"/></a>"
      ]
    },
    {
      "cell_type": "code",
      "metadata": {
        "id": "j3RUHP1H7Bpx",
        "colab": {
          "base_uri": "https://localhost:8080/",
          "height": 390
        },
        "outputId": "c08856a7-c102-415d-8cdb-3cf7b2217d53"
      },
      "source": [
        "import pandas as pd \n",
        "import numpy as np \n",
        "import seaborn as sns\n",
        "from matplotlib import pyplot as plt\n",
        "sns.set()\n",
        "plt.figure(figsize=(10, 8))\n",
        "# essencias = {'produtos':[],\n",
        "#              'quantidade': [],\n",
        "#              'lucro': []\n",
        "#              }\n",
        "# total_dia = {'total': []}\n",
        "\n",
        "teste = pd.read_csv('drive/MyDrive/Colab Notebooks/Projeto_igor/df.csv')\n",
        "teste\n"
      ],
      "execution_count": null,
      "outputs": [
        {
          "output_type": "execute_result",
          "data": {
            "text/html": [
              "<div>\n",
              "<style scoped>\n",
              "    .dataframe tbody tr th:only-of-type {\n",
              "        vertical-align: middle;\n",
              "    }\n",
              "\n",
              "    .dataframe tbody tr th {\n",
              "        vertical-align: top;\n",
              "    }\n",
              "\n",
              "    .dataframe thead th {\n",
              "        text-align: right;\n",
              "    }\n",
              "</style>\n",
              "<table border=\"1\" class=\"dataframe\">\n",
              "  <thead>\n",
              "    <tr style=\"text-align: right;\">\n",
              "      <th></th>\n",
              "      <th>produtos</th>\n",
              "      <th>quantidade</th>\n",
              "      <th>lucro</th>\n",
              "    </tr>\n",
              "  </thead>\n",
              "  <tbody>\n",
              "    <tr>\n",
              "      <th>0</th>\n",
              "      <td>nay</td>\n",
              "      <td>1</td>\n",
              "      <td>4</td>\n",
              "    </tr>\n",
              "    <tr>\n",
              "      <th>1</th>\n",
              "      <td>zomo</td>\n",
              "      <td>1</td>\n",
              "      <td>3</td>\n",
              "    </tr>\n",
              "    <tr>\n",
              "      <th>2</th>\n",
              "      <td>hema</td>\n",
              "      <td>2</td>\n",
              "      <td>14</td>\n",
              "    </tr>\n",
              "    <tr>\n",
              "      <th>3</th>\n",
              "      <td>zomo</td>\n",
              "      <td>1</td>\n",
              "      <td>3</td>\n",
              "    </tr>\n",
              "    <tr>\n",
              "      <th>4</th>\n",
              "      <td>zomo</td>\n",
              "      <td>1</td>\n",
              "      <td>3</td>\n",
              "    </tr>\n",
              "    <tr>\n",
              "      <th>5</th>\n",
              "      <td>onix</td>\n",
              "      <td>5</td>\n",
              "      <td>20</td>\n",
              "    </tr>\n",
              "    <tr>\n",
              "      <th>6</th>\n",
              "      <td>ziggy</td>\n",
              "      <td>10</td>\n",
              "      <td>40</td>\n",
              "    </tr>\n",
              "    <tr>\n",
              "      <th>7</th>\n",
              "      <td>zomo</td>\n",
              "      <td>1</td>\n",
              "      <td>3</td>\n",
              "    </tr>\n",
              "    <tr>\n",
              "      <th>8</th>\n",
              "      <td>hema</td>\n",
              "      <td>1</td>\n",
              "      <td>7</td>\n",
              "    </tr>\n",
              "    <tr>\n",
              "      <th>9</th>\n",
              "      <td>hema</td>\n",
              "      <td>2</td>\n",
              "      <td>14</td>\n",
              "    </tr>\n",
              "    <tr>\n",
              "      <th>10</th>\n",
              "      <td>hema</td>\n",
              "      <td>3</td>\n",
              "      <td>21</td>\n",
              "    </tr>\n",
              "  </tbody>\n",
              "</table>\n",
              "</div>"
            ],
            "text/plain": [
              "   produtos  quantidade  lucro\n",
              "0       nay           1      4\n",
              "1      zomo           1      3\n",
              "2      hema           2     14\n",
              "3      zomo           1      3\n",
              "4      zomo           1      3\n",
              "5      onix           5     20\n",
              "6     ziggy          10     40\n",
              "7      zomo           1      3\n",
              "8      hema           1      7\n",
              "9      hema           2     14\n",
              "10     hema           3     21"
            ]
          },
          "metadata": {
            "tags": []
          },
          "execution_count": 94
        },
        {
          "output_type": "display_data",
          "data": {
            "text/plain": [
              "<Figure size 720x576 with 0 Axes>"
            ]
          },
          "metadata": {
            "tags": []
          }
        }
      ]
    },
    {
      "cell_type": "code",
      "metadata": {
        "id": "eesalgAZF2PP"
      },
      "source": [
        "dici = {'ziggy': 7, \n",
        "        'zomo': 6, \n",
        "        'nay': 7, \n",
        "        'onix': 8, \n",
        "        'pimp': 8, \n",
        "        'love': 10.50,\n",
        "        'coco life': 50,\n",
        "        'hema': 50,\n",
        "        'aluminio zomo': 9,\n",
        "        'predator': 8,\n",
        "        'kavalera': 4,\n",
        "        'kaloud': 17,\n",
        "        'bking': 19,\n",
        "        'beta': 25,\n",
        "        'zingow': 18,\n",
        "        'conduite': 4,\n",
        "        'silicone': 10,\n",
        "        'vaso': 10,\n",
        "        'fog p': 22,\n",
        "        'fog m': 27,\n",
        "        'pegador': 5,\n",
        "        'borracha r': 2,\n",
        "        'borracha m': 2,\n",
        "        'borracha v': 3}\n",
        "preco_venda = {'ziggy': 11, \n",
        "        'zomo': 9, \n",
        "        'nay': 11, \n",
        "        'onix': 12, \n",
        "        'pimp': 12, \n",
        "        'love':14.50,\n",
        "        'coco life' : 67,\n",
        "        'hema': 57,\n",
        "        'aluminio zomo': 14,\n",
        "        'predator': 12.50,\n",
        "        'kavalera': 8,\n",
        "        'kaloud': 24,\n",
        "        'bking': 30.5,\n",
        "        'beta': 40,\n",
        "        'zingow': 27,\n",
        "        'conduite': 9,\n",
        "        'silicone': 15,\n",
        "        'vaso': 17,\n",
        "        'fog p': 35,\n",
        "        'fog m': 41,\n",
        "        'pegador': 10,\n",
        "        'borracha r': 4,\n",
        "        'borracha m': 4,\n",
        "        'borracha v': 5}\n"
      ],
      "execution_count": null,
      "outputs": []
    },
    {
      "cell_type": "code",
      "metadata": {
        "id": "hPHGZNKf79PV"
      },
      "source": [
        "\n",
        "def venda():\n",
        "  lista = []\n",
        "  #total = []\n",
        "  lucro = []\n",
        "\n",
        "  marca = int(input('quantas marcas voce vendeu ? '))\n",
        "\n",
        "  print('====================================')\n",
        "  for i in range(0, marca):  \n",
        "    teste = input(f\"digite o produto {i+1}: \")\n",
        "    lista.append(teste)\n",
        "    quant = int(input(f'Quantas {lista[i]} foi vendida: '))\n",
        "    print('====================================')\n",
        "    #total.append(quant)\n",
        "    preço = (preco_venda[teste] * quant) - (dici[teste] * quant)\n",
        "    lucro.append(preço)\n",
        "    essencias['produtos'].append(teste)\n",
        "    essencias['quantidade'].append(quant) \n",
        "    essencias['lucro'].append(preço)\n",
        "\n",
        "  lucro = sum(lucro) \n",
        "  total_dia['total'].append(lucro)\n",
        "  print(f'seu lucro foi total foi de: R${lucro}')\n",
        "  return lucro"
      ],
      "execution_count": null,
      "outputs": []
    },
    {
      "cell_type": "code",
      "metadata": {
        "id": "R9090loa76md",
        "colab": {
          "base_uri": "https://localhost:8080/"
        },
        "outputId": "4e6f12fc-5c9d-402b-d796-f8987d764ea7"
      },
      "source": [
        "venda()\n",
        "\n",
        "df = pd.DataFrame(essencias)\n",
        "dia = pd.DataFrame(total_dia)\n",
        "\n",
        "df.to_csv('drive/MyDrive/Colab Notebooks/Projeto_igor/df.csv', index=Fhealse)\n",
        "teste = pd.read_csv('drive/MyDrive/Colab Notebooks/Projeto_igor/df.csv')\n",
        "\n"
      ],
      "execution_count": null,
      "outputs": [
        {
          "output_type": "stream",
          "text": [
            "quantas marcas voce vendeu ? 1\n",
            "====================================\n",
            "digite o produto 1: hema\n",
            "Quantas hema foi vendida: 3\n",
            "====================================\n",
            "seu lucro foi total foi de: R$21\n"
          ],
          "name": "stdout"
        }
      ]
    },
    {
      "cell_type": "code",
      "metadata": {
        "colab": {
          "base_uri": "https://localhost:8080/",
          "height": 373
        },
        "id": "yNrZJKyMQu1R",
        "outputId": "a8863f26-8c54-4fa7-b0b5-aef4afda34d1"
      },
      "source": [
        "teste"
      ],
      "execution_count": null,
      "outputs": [
        {
          "output_type": "execute_result",
          "data": {
            "text/html": [
              "<div>\n",
              "<style scoped>\n",
              "    .dataframe tbody tr th:only-of-type {\n",
              "        vertical-align: middle;\n",
              "    }\n",
              "\n",
              "    .dataframe tbody tr th {\n",
              "        vertical-align: top;\n",
              "    }\n",
              "\n",
              "    .dataframe thead th {\n",
              "        text-align: right;\n",
              "    }\n",
              "</style>\n",
              "<table border=\"1\" class=\"dataframe\">\n",
              "  <thead>\n",
              "    <tr style=\"text-align: right;\">\n",
              "      <th></th>\n",
              "      <th>produtos</th>\n",
              "      <th>quantidade</th>\n",
              "      <th>lucro</th>\n",
              "    </tr>\n",
              "  </thead>\n",
              "  <tbody>\n",
              "    <tr>\n",
              "      <th>0</th>\n",
              "      <td>nay</td>\n",
              "      <td>1</td>\n",
              "      <td>4</td>\n",
              "    </tr>\n",
              "    <tr>\n",
              "      <th>1</th>\n",
              "      <td>zomo</td>\n",
              "      <td>1</td>\n",
              "      <td>3</td>\n",
              "    </tr>\n",
              "    <tr>\n",
              "      <th>2</th>\n",
              "      <td>hema</td>\n",
              "      <td>2</td>\n",
              "      <td>14</td>\n",
              "    </tr>\n",
              "    <tr>\n",
              "      <th>3</th>\n",
              "      <td>zomo</td>\n",
              "      <td>1</td>\n",
              "      <td>3</td>\n",
              "    </tr>\n",
              "    <tr>\n",
              "      <th>4</th>\n",
              "      <td>zomo</td>\n",
              "      <td>1</td>\n",
              "      <td>3</td>\n",
              "    </tr>\n",
              "    <tr>\n",
              "      <th>5</th>\n",
              "      <td>onix</td>\n",
              "      <td>5</td>\n",
              "      <td>20</td>\n",
              "    </tr>\n",
              "    <tr>\n",
              "      <th>6</th>\n",
              "      <td>ziggy</td>\n",
              "      <td>10</td>\n",
              "      <td>40</td>\n",
              "    </tr>\n",
              "    <tr>\n",
              "      <th>7</th>\n",
              "      <td>zomo</td>\n",
              "      <td>1</td>\n",
              "      <td>3</td>\n",
              "    </tr>\n",
              "    <tr>\n",
              "      <th>8</th>\n",
              "      <td>hema</td>\n",
              "      <td>1</td>\n",
              "      <td>7</td>\n",
              "    </tr>\n",
              "    <tr>\n",
              "      <th>9</th>\n",
              "      <td>hema</td>\n",
              "      <td>2</td>\n",
              "      <td>14</td>\n",
              "    </tr>\n",
              "    <tr>\n",
              "      <th>10</th>\n",
              "      <td>hema</td>\n",
              "      <td>3</td>\n",
              "      <td>21</td>\n",
              "    </tr>\n",
              "  </tbody>\n",
              "</table>\n",
              "</div>"
            ],
            "text/plain": [
              "   produtos  quantidade  lucro\n",
              "0       nay           1      4\n",
              "1      zomo           1      3\n",
              "2      hema           2     14\n",
              "3      zomo           1      3\n",
              "4      zomo           1      3\n",
              "5      onix           5     20\n",
              "6     ziggy          10     40\n",
              "7      zomo           1      3\n",
              "8      hema           1      7\n",
              "9      hema           2     14\n",
              "10     hema           3     21"
            ]
          },
          "metadata": {
            "tags": []
          },
          "execution_count": 93
        }
      ]
    },
    {
      "cell_type": "code",
      "metadata": {
        "colab": {
          "base_uri": "https://localhost:8080/"
        },
        "id": "aaUxItdvTaok",
        "outputId": "faf5ae32-09fc-4d82-93f4-fa6a8e0a1658"
      },
      "source": [
        "from google.colab import drive\n",
        "drive.mount('/content/drive')"
      ],
      "execution_count": null,
      "outputs": [
        {
          "output_type": "stream",
          "text": [
            "Drive already mounted at /content/drive; to attempt to forcibly remount, call drive.mount(\"/content/drive\", force_remount=True).\n"
          ],
          "name": "stdout"
        }
      ]
    }
  ]
}